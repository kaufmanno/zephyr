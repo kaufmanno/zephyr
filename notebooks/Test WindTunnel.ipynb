{
 "cells": [
  {
   "cell_type": "code",
   "execution_count": 1,
   "metadata": {
    "collapsed": false
   },
   "outputs": [],
   "source": [
    "import numpy as np\n",
    "from anemoi import MiniZephyr\n",
    "from windtunnel import HelmBaseProblem"
   ]
  },
  {
   "cell_type": "code",
   "execution_count": 2,
   "metadata": {
    "collapsed": false
   },
   "outputs": [],
   "source": [
    "systemConfig = {\n",
    "    'dx':       1.,             # m\n",
    "    'dz':       1.,             # m\n",
    "    'c':        2500.,          # m/s\n",
    "    'rho':      1.,             # kg/m^3\n",
    "    'nx':       100,            # count\n",
    "    'nz':       200,            # count\n",
    "    'freqs':    [2e2, 3e2],     # Hz\n",
    "    'disc':     MiniZephyr,     # discretization\n",
    "}"
   ]
  },
  {
   "cell_type": "code",
   "execution_count": 3,
   "metadata": {
    "collapsed": false
   },
   "outputs": [],
   "source": [
    "hbp = HelmBaseProblem(systemConfig)"
   ]
  },
  {
   "cell_type": "code",
   "execution_count": 4,
   "metadata": {
    "collapsed": false
   },
   "outputs": [
    {
     "data": {
      "text/plain": [
       "<windtunnel.problem.MultiFreq at 0x7fd51f0d6d10>"
      ]
     },
     "execution_count": 4,
     "metadata": {},
     "output_type": "execute_result"
    }
   ],
   "source": [
    "hbp.system"
   ]
  },
  {
   "cell_type": "code",
   "execution_count": 5,
   "metadata": {
    "collapsed": false
   },
   "outputs": [
    {
     "data": {
      "text/plain": [
       "[<anemoi.minizephyr.MiniZephyr at 0x7fd51f06f450>,\n",
       " <anemoi.minizephyr.MiniZephyr at 0x7fd51f06f5d0>]"
      ]
     },
     "execution_count": 5,
     "metadata": {},
     "output_type": "execute_result"
    }
   ],
   "source": [
    "hbp.system.subProblems"
   ]
  },
  {
   "cell_type": "code",
   "execution_count": null,
   "metadata": {
    "collapsed": true
   },
   "outputs": [],
   "source": []
  }
 ],
 "metadata": {
  "kernelspec": {
   "display_name": "Python 2",
   "language": "python",
   "name": "python2"
  },
  "language_info": {
   "codemirror_mode": {
    "name": "ipython",
    "version": 2
   },
   "file_extension": ".py",
   "mimetype": "text/x-python",
   "name": "python",
   "nbconvert_exporter": "python",
   "pygments_lexer": "ipython2",
   "version": "2.7.6"
  }
 },
 "nbformat": 4,
 "nbformat_minor": 0
}
