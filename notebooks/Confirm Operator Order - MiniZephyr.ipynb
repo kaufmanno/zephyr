{
 "cells": [
  {
   "cell_type": "markdown",
   "metadata": {},
   "source": [
    "# Confirm Operator Order - MiniZephyr\n",
    "\n",
    "Brendan Smithyman | November 2015\n",
    "\n",
    "This notebook confirms second-order accuracy in the forward modelling operator."
   ]
  },
  {
   "cell_type": "code",
   "execution_count": 1,
   "metadata": {
    "collapsed": true
   },
   "outputs": [],
   "source": [
    "import sys\n",
    "sys.path.append('../')"
   ]
  },
  {
   "cell_type": "code",
   "execution_count": 2,
   "metadata": {
    "collapsed": false
   },
   "outputs": [],
   "source": [
    "import numpy as np\n",
    "from zephyr.backend import MiniZephyr, SparseKaiserSource, AnalyticalHelmholtz"
   ]
  },
  {
   "cell_type": "code",
   "execution_count": 3,
   "metadata": {
    "collapsed": true
   },
   "outputs": [],
   "source": [
    "import matplotlib.pyplot as plt\n",
    "import matplotlib.cm as cm\n",
    "import matplotlib\n",
    "\n",
    "%matplotlib inline\n",
    "\n",
    "from IPython.display import set_matplotlib_formats\n",
    "set_matplotlib_formats('png')\n",
    "matplotlib.rcParams['savefig.dpi'] = 150 # Change this to adjust figure size"
   ]
  },
  {
   "cell_type": "code",
   "execution_count": 4,
   "metadata": {
    "collapsed": false
   },
   "outputs": [],
   "source": [
    "systemConfig = {\n",
    "    'c':        2000.,  # m/s\n",
    "    'rho':      1.,     # kg/m^3\n",
    "    'freq':     10.,    # Hz\n",
    "}\n",
    "\n",
    "dx = np.arange(5,15,1)\n",
    "mxz = 1000.\n",
    "bound = 250.\n",
    "sloc = np.array([[500.,500.]])"
   ]
  },
  {
   "cell_type": "code",
   "execution_count": 5,
   "metadata": {
    "collapsed": false
   },
   "outputs": [],
   "source": [
    "def getError(dx):\n",
    "    \n",
    "    sc = {key: systemConfig[key] for key in systemConfig}\n",
    "    sc.update({\n",
    "            'dx': dx,\n",
    "            'nx': np.floor(mxz / dx),\n",
    "            'nz': np.floor(mxz / dx),\n",
    "            'nPML': np.floor(bound / dx)\n",
    "        })\n",
    "    \n",
    "    MZ = MiniZephyr(sc)\n",
    "    AH = AnalyticalHelmholtz(sc)\n",
    "    SS = SparseKaiserSource(sc)\n",
    "    \n",
    "    q = SS(sloc)\n",
    "    uMZ = MZ*q\n",
    "    uAH = AH(sloc)\n",
    "    uDiff = (uAH - uMZ)#[inside/dx:-inside/dx,inside/dx:-inside/dx]\n",
    "    sc['error'] = np.sqrt((uDiff * uDiff.conj()).sum()).real\n",
    "    \n",
    "    print('nx: %(nx)4d, nz: %(nz)4d, dx: %(dx)8.3f, error: %(error)8.3e'%sc)\n",
    "\n",
    "    return sc['error']"
   ]
  },
  {
   "cell_type": "code",
   "execution_count": 6,
   "metadata": {
    "collapsed": false
   },
   "outputs": [
    {
     "name": "stdout",
     "output_type": "stream",
     "text": [
      "nx:  200, nz:  200, dx:    5.000, error: 1.320e+03\n",
      "nx:  166, nz:  166, dx:    6.000, error: 8.305e+02\n",
      "nx:  142, nz:  142, dx:    7.000, error: 5.662e+02\n",
      "nx:  125, nz:  125, dx:    8.000, error: 4.050e+02\n",
      "nx:  111, nz:  111, dx:    9.000, error: 3.053e+02\n",
      "nx:  100, nz:  100, dx:   10.000, error: 2.275e+02\n",
      "nx:   90, nz:   90, dx:   11.000, error: 1.136e+02\n",
      "nx:   83, nz:   83, dx:   12.000, error: 1.437e+02\n",
      "nx:   76, nz:   76, dx:   13.000, error: 7.123e+01\n",
      "nx:   71, nz:   71, dx:   14.000, error: 1.052e+02\n"
     ]
    }
   ],
   "source": [
    "err = map(getError, dx)"
   ]
  },
  {
   "cell_type": "code",
   "execution_count": 7,
   "metadata": {
    "collapsed": false
   },
   "outputs": [
    {
     "data": {
      "image/png": "[encoded data removed]",
      "text/plain": [
       "<matplotlib.figure.Figure at 0x7f66593a3150>"
      ]
     },
     "metadata": {},
     "output_type": "display_data"
    }
   ],
   "source": [
    "plt.plot(dx, err)\n",
    "plt.plot(dx, dx**2)\n",
    "ax = plt.axes()\n",
    "ax.set_yscale('log')\n",
    "ax.set_xscale('log')"
   ]
  },
  {
   "cell_type": "code",
   "execution_count": null,
   "metadata": {
    "collapsed": true
   },
   "outputs": [],
   "source": []
  }
 ],
 "metadata": {
  "kernelspec": {
   "display_name": "Python 2",
   "language": "python",
   "name": "python2"
  },
  "language_info": {
   "codemirror_mode": {
    "name": "ipython",
    "version": 2
   },
   "file_extension": ".py",
   "mimetype": "text/x-python",
   "name": "python",
   "nbconvert_exporter": "python",
   "pygments_lexer": "ipython2",
   "version": "2.7.6"
  }
 },
 "nbformat": 4,
 "nbformat_minor": 0
}
