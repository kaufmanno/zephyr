{
 "cells": [
  {
   "cell_type": "code",
   "execution_count": 1,
   "metadata": {
    "collapsed": false
   },
   "outputs": [],
   "source": [
    "import sys\n",
    "sys.path.append('../')\n",
    "sys.path.append('/usr/local/bin')\n",
    "\n",
    "import numpy as np\n",
    "import zephyr.backend\n",
    "import zephyr.middleware\n",
    "import SimPEG\n",
    "import scipy.sparse.linalg"
   ]
  },
  {
   "cell_type": "code",
   "execution_count": 2,
   "metadata": {
    "collapsed": false
   },
   "outputs": [],
   "source": [
    "nx = 100\n",
    "nz = 200\n",
    "cBackground = 2500.\n",
    "cAnomaly = -500.\n",
    "\n",
    "cInitial = cBackground * np.ones((nz,nx))\n",
    "\n",
    "cUpdate = np.zeros((nz,nx))\n",
    "cUpdate[(nz/2)-10:(nz/2)+10,(nx/2)-10:(nx/2)+10] = cAnomaly\n",
    "\n",
    "cTrue = cInitial + cUpdate\n",
    "\n",
    "sz = np.arange(25, nz-24, 1)\n",
    "sx = 25. * np.ones((len(sz),))\n",
    "rz = np.arange(25, nz-24, 1)\n",
    "rx = (nx - 25.) * np.ones((len(rz),))\n",
    "\n",
    "geom = {\n",
    "    'src':      np.vstack([sx, sz]).T,\n",
    "    'rec':      np.vstack([rx, rz]).T,\n",
    "}\n",
    "\n",
    "systemConfig = {\n",
    "    'dx':       1.,                             # m\n",
    "    'dz':       1.,                             # m\n",
    "    'c':        cTrue.ravel(),                  # m/s\n",
    "    'rho':      1.,                             # kg/m^3\n",
    "    'nx':       nx,                             # count\n",
    "    'nz':       nz,                             # count\n",
    "    'freqs':    np.arange(50, 450, 50),         # Hz\n",
    "    'Disc':     zephyr.backend.MiniZephyrHD,    # discretization\n",
    "    'geom':     geom,                           # dictionary\n",
    "    'nWorkers': 8,\n",
    "    'targetGPW':8,\n",
    "    'cMin':     2000.,\n",
    "    'Solver':   scipy.sparse.linalg.splu,\n",
    "}"
   ]
  },
  {
   "cell_type": "code",
   "execution_count": 3,
   "metadata": {
    "collapsed": true
   },
   "outputs": [],
   "source": [
    "problem = zephyr.middleware.Helm2DViscoProblem(systemConfig)\n",
    "survey  = zephyr.middleware.Helm2DSurvey(systemConfig)\n",
    "problem.pair(survey)"
   ]
  },
  {
   "cell_type": "code",
   "execution_count": 4,
   "metadata": {
    "collapsed": false
   },
   "outputs": [
    {
     "name": "stdout",
     "output_type": "stream",
     "text": [
      "CPU times: user 919 ms, sys: 688 ms, total: 1.61 s\n",
      "Wall time: 4.21 s\n"
     ]
    }
   ],
   "source": [
    "%%time\n",
    "dObs = survey.dpred()"
   ]
  },
  {
   "cell_type": "code",
   "execution_count": 5,
   "metadata": {
    "collapsed": false
   },
   "outputs": [],
   "source": [
    "survey.dobs = dObs\n",
    "survey.std = 1.\n",
    "\n",
    "dmisfit = SimPEG.DataMisfit.l2_DataMisfit(survey)\n",
    "# dmisfit.Wd = 1.\n",
    "\n",
    "opt = SimPEG.Optimization.ProjectedGradient(maxIter=5)\n",
    "mapping = SimPEG.Maps.IdentityMap(nP=nz*nx)\n",
    "reg = zephyr.middleware.HelmBaseRegularization(problem.mesh, mapping=mapping)\n",
    "\n",
    "invProb = SimPEG.InvProblem.BaseInvProblem(dmisfit, reg, opt)\n",
    "inv = SimPEG.Inversion.BaseInversion(invProb)"
   ]
  },
  {
   "cell_type": "code",
   "execution_count": 6,
   "metadata": {
    "collapsed": false,
    "scrolled": true
   },
   "outputs": [
    {
     "name": "stdout",
     "output_type": "stream",
     "text": [
      "SimPEG.InvProblem will set Regularization.mref to m0.\n",
      "SimPEG.InvProblem is setting bfgsH0 to the inverse of the eval2Deriv.\n",
      "                    ***Done using same Solver and solverOpts as the problem***\n",
      "========================================= Projected Gradient =========================================\n",
      "  #     beta     phi_d     phi_m       f      |proj(x-g)-x|  LS   itType   aSet    bSet    Comment   \n",
      "-----------------------------------------------------------------------------------------------------\n",
      "SimPEG.DataMisfit.l2_DataMisfit assigning default eps of 1e-5 * ||dobs||\n",
      "   0  1.00e+00  2.39e+05  0.00e+00  2.39e+05    2.66e+03      0     SD      0       0                \n"
     ]
    },
    {
     "name": "stderr",
     "output_type": "stream",
     "text": [
      "/usr/local/lib/python2.7/dist-packages/SimPEG/Utils/codeutils.py:84: ComplexWarning: Casting complex values to real discards the imaginary part\n",
      "  values += ('{:^%i}'%printer['width']).format(printer['format'] % printer['value'](obj))\n"
     ]
    },
    {
     "name": "stdout",
     "output_type": "stream",
     "text": [
      "------------------------------------------------------------------\n",
      "0 :    ft     = 2.3966e+05 <= alp*descent     = 2.3947e+05\n",
      "1 : maxIterLS =      10    <= iterLS          =     10\n",
      "0 : probSize  =    20000   <= bindingSet      =      0\n",
      "------------------------- End Linesearch -------------------------\n",
      "The linesearch got broken. Boo.\n"
     ]
    },
    {
     "name": "stderr",
     "output_type": "stream",
     "text": [
      "/usr/local/lib/python2.7/dist-packages/SimPEG/Utils/codeutils.py:109: ComplexWarning: Casting complex values to real discards the imaginary part\n",
      "  print pad + stopper['str'] % (l<=r,l,r)\n"
     ]
    }
   ],
   "source": [
    "mOpt = inv.run(cInitial.ravel())"
   ]
  },
  {
   "cell_type": "code",
   "execution_count": 7,
   "metadata": {
    "collapsed": true
   },
   "outputs": [],
   "source": [
    "# import scipy.optimize"
   ]
  },
  {
   "cell_type": "code",
   "execution_count": 8,
   "metadata": {
    "collapsed": false
   },
   "outputs": [],
   "source": [
    "# misfit = lambda x: invProb.evalFunction(x, True, False)\n",
    "# res = scipy.optimize.minimize(misfit, cInitial.ravel(), jac=True, method='Newton-CG')\n",
    "# jac = lambda x: -dmisfit.evalDeriv(x)\n",
    "# res = scipy.optimize.minimize(dmisfit.eval, cInitial.ravel(), jac=jac, method='Newton-CG')"
   ]
  },
  {
   "cell_type": "code",
   "execution_count": 9,
   "metadata": {
    "collapsed": false
   },
   "outputs": [],
   "source": [
    "# import matplotlib.pyplot as plt\n",
    "# %pylab inline\n",
    "\n",
    "# plotOpts = {\n",
    "#     'vmin': min(cTrue.min(), res.x.min()),\n",
    "#     'vmax': max(cTrue.max(), res.x.max()),\n",
    "# }\n",
    "\n",
    "# fig = plt.figure()\n",
    "\n",
    "# fig.add_subplot(1,2,1)\n",
    "# plt.imshow(cTrue, **plotOpts)\n",
    "# plt.colorbar()\n",
    "\n",
    "# fig.add_subplot(1,2,2)\n",
    "# plt.imshow(res.x.reshape((nz,nx)), **plotOpts)\n",
    "# plt.colorbar()"
   ]
  },
  {
   "cell_type": "code",
   "execution_count": null,
   "metadata": {
    "collapsed": true
   },
   "outputs": [],
   "source": []
  }
 ],
 "metadata": {
  "kernelspec": {
   "display_name": "Python 2",
   "language": "python",
   "name": "python2"
  },
  "language_info": {
   "codemirror_mode": {
    "name": "ipython",
    "version": 2
   },
   "file_extension": ".py",
   "mimetype": "text/x-python",
   "name": "python",
   "nbconvert_exporter": "python",
   "pygments_lexer": "ipython2",
   "version": "2.7.6"
  }
 },
 "nbformat": 4,
 "nbformat_minor": 0
}
