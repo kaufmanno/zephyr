{
 "cells": [
  {
   "cell_type": "code",
   "execution_count": 1,
   "metadata": {
    "collapsed": false
   },
   "outputs": [],
   "source": [
    "import sys\n",
    "sys.path.append('../')\n",
    "sys.path.append('/usr/local/bin')\n",
    "\n",
    "import numpy as np\n",
    "import zephyr.backend\n",
    "import zephyr.middleware\n",
    "import SimPEG\n",
    "from pymatsolver import MumpsSolver"
   ]
  },
  {
   "cell_type": "code",
   "execution_count": 2,
   "metadata": {
    "collapsed": false
   },
   "outputs": [],
   "source": [
    "nx = 100\n",
    "nz = 200\n",
    "cBackground = 2500.\n",
    "cAnomaly = -500.\n",
    "\n",
    "cInitial = cBackground * np.ones((nz,nx))\n",
    "\n",
    "cUpdate = np.zeros((nz,nx))\n",
    "cUpdate[(nz/2)-10:(nz/2)+10,(nx/2)-10:(nx/2)+10] = cAnomaly\n",
    "\n",
    "cTrue = cInitial + cUpdate\n",
    "\n",
    "sz = np.arange(25, nz-24, 1)\n",
    "sx = 25. * np.ones((len(sz),))\n",
    "rz = np.arange(25, nz-24, 1)\n",
    "rx = (nx - 25.) * np.ones((len(rz),))\n",
    "\n",
    "geom = {\n",
    "    'src':      np.vstack([sx, sz]).T,\n",
    "    'rec':      np.vstack([rx, rz]).T,\n",
    "}\n",
    "\n",
    "systemConfig = {\n",
    "    'dx':       1.,                             # m\n",
    "    'dz':       1.,                             # m\n",
    "    'c':        cTrue.ravel(),                  # m/s\n",
    "    'rho':      1.,                             # kg/m^3\n",
    "    'nx':       nx,                             # count\n",
    "    'nz':       nz,                             # count\n",
    "    'freqs':    np.arange(50, 450, 50),         # Hz\n",
    "    'Disc':     zephyr.backend.MiniZephyrHD,    # discretization\n",
    "    'geom':     geom,                           # dictionary\n",
    "    'nWorkers': 8,\n",
    "    'Solver':   MumpsSolver,\n",
    "    'targetGPW':8,\n",
    "    'cMin':     2000.,\n",
    "}"
   ]
  },
  {
   "cell_type": "code",
   "execution_count": 3,
   "metadata": {
    "collapsed": true
   },
   "outputs": [],
   "source": [
    "problem = zephyr.middleware.Helm2DViscoProblem(systemConfig)\n",
    "survey  = zephyr.middleware.Helm2DSurvey(systemConfig)\n",
    "problem.pair(survey)"
   ]
  },
  {
   "cell_type": "code",
   "execution_count": 4,
   "metadata": {
    "collapsed": false
   },
   "outputs": [
    {
     "name": "stdout",
     "output_type": "stream",
     "text": [
      "CPU times: user 699 ms, sys: 635 ms, total: 1.33 s\n",
      "Wall time: 3.85 s\n"
     ]
    }
   ],
   "source": [
    "%%time\n",
    "dObs = survey.dpred()"
   ]
  },
  {
   "cell_type": "code",
   "execution_count": 5,
   "metadata": {
    "collapsed": false
   },
   "outputs": [],
   "source": [
    "survey.dobs = dObs\n",
    "survey.std = 1.\n",
    "\n",
    "dmisfit = SimPEG.DataMisfit.l2_DataMisfit(survey)\n",
    "dmisfit.Wd = 1.\n",
    "\n",
    "opt = SimPEG.Optimization.ProjectedGradient()\n",
    "reg = zephyr.middleware.HelmBaseRegularization(problem.mesh)\n",
    "\n",
    "invProb = SimPEG.InvProblem.BaseInvProblem(dmisfit, reg, opt)\n",
    "inv = SimPEG.Inversion.BaseInversion(invProb)"
   ]
  },
  {
   "cell_type": "code",
   "execution_count": 6,
   "metadata": {
    "collapsed": false
   },
   "outputs": [],
   "source": [
    "# mOpt = inv.run(cInitial.ravel())"
   ]
  },
  {
   "cell_type": "code",
   "execution_count": 7,
   "metadata": {
    "collapsed": true
   },
   "outputs": [],
   "source": [
    "import scipy.optimize"
   ]
  },
  {
   "cell_type": "code",
   "execution_count": 8,
   "metadata": {
    "collapsed": false
   },
   "outputs": [
    {
     "name": "stderr",
     "output_type": "stream",
     "text": [
      "/usr/lib/python2.7/dist-packages/scipy/optimize/linesearch.py:164: ComplexWarning: Casting complex values to real discards the imaginary part\n",
      "  amin, amax, isave, dsave)\n",
      "/usr/lib/python2.7/dist-packages/scipy/optimize/linesearch.py:414: ComplexWarning: Casting complex values to real discards the imaginary part\n",
      "  d1[0, 0] = dc ** 2\n",
      "/usr/lib/python2.7/dist-packages/scipy/optimize/linesearch.py:415: ComplexWarning: Casting complex values to real discards the imaginary part\n",
      "  d1[0, 1] = -db ** 2\n",
      "/usr/lib/python2.7/dist-packages/scipy/optimize/linesearch.py:416: ComplexWarning: Casting complex values to real discards the imaginary part\n",
      "  d1[1, 0] = -dc ** 3\n",
      "/usr/lib/python2.7/dist-packages/scipy/optimize/linesearch.py:417: ComplexWarning: Casting complex values to real discards the imaginary part\n",
      "  d1[1, 1] = db ** 3\n"
     ]
    }
   ],
   "source": [
    "# misfit = lambda x: invProb.evalFunction(x, True, False)\n",
    "# res = scipy.optimize.minimize(misfit, cInitial.ravel(), jac=True, method='Newton-CG')\n",
    "res = scipy.optimize.minimize(dmisfit.eval, cInitial.ravel(), jac=dmisfit.evalDeriv, method='Newton-CG')"
   ]
  },
  {
   "cell_type": "code",
   "execution_count": 9,
   "metadata": {
    "collapsed": false
   },
   "outputs": [
    {
     "name": "stdout",
     "output_type": "stream",
     "text": [
      "Populating the interactive namespace from numpy and matplotlib\n"
     ]
    },
    {
     "name": "stderr",
     "output_type": "stream",
     "text": [
      "WARNING: pylab import has clobbered these variables: ['inv']\n",
      "`%matplotlib` prevents importing * from pylab and numpy\n"
     ]
    },
    {
     "data": {
      "text/plain": [
       "<matplotlib.colorbar.Colorbar instance at 0x7f9d0dae88c0>"
      ]
     },
     "execution_count": 9,
     "metadata": {},
     "output_type": "execute_result"
    },
    {
     "data": {
      "image/png": "[encoded data removed]",
      "text/plain": [
       "<matplotlib.figure.Figure at 0x7f9d0c08ce10>"
      ]
     },
     "metadata": {},
     "output_type": "display_data"
    }
   ],
   "source": [
    "import matplotlib.pyplot as plt\n",
    "%pylab inline\n",
    "\n",
    "plotOpts = {\n",
    "    'vmin': min(cTrue.min(), res.x.min()),\n",
    "    'vmax': max(cTrue.max(), res.x.max()),\n",
    "}\n",
    "\n",
    "fig = plt.figure()\n",
    "\n",
    "fig.add_subplot(1,2,1)\n",
    "plt.imshow(cTrue, **plotOpts)\n",
    "plt.colorbar()\n",
    "\n",
    "fig.add_subplot(1,2,2)\n",
    "plt.imshow(res.x.reshape((nz,nx)), **plotOpts)\n",
    "plt.colorbar()"
   ]
  },
  {
   "cell_type": "code",
   "execution_count": null,
   "metadata": {
    "collapsed": true
   },
   "outputs": [],
   "source": []
  }
 ],
 "metadata": {
  "kernelspec": {
   "display_name": "Python 2",
   "language": "python",
   "name": "python2"
  },
  "language_info": {
   "codemirror_mode": {
    "name": "ipython",
    "version": 2
   },
   "file_extension": ".py",
   "mimetype": "text/x-python",
   "name": "python",
   "nbconvert_exporter": "python",
   "pygments_lexer": "ipython2",
   "version": "2.7.6"
  }
 },
 "nbformat": 4,
 "nbformat_minor": 0
}
