{
 "cells": [
  {
   "cell_type": "code",
   "execution_count": null,
   "metadata": {
    "collapsed": false
   },
   "outputs": [],
   "source": [
    "import numpy as np\n",
    "import zephyr.backend\n",
    "import zephyr.middleware\n",
    "import SimPEG"
   ]
  },
  {
   "cell_type": "code",
   "execution_count": null,
   "metadata": {
    "collapsed": false
   },
   "outputs": [],
   "source": [
    "nx = 100\n",
    "nz = 200\n",
    "cBackground = 2500.\n",
    "cAnomaly = -500.\n",
    "\n",
    "cTrue = cBackground * np.ones((nz,nx))\n",
    "cTrue[(nz/2)-10:(nz/2)+10,(nx/2)-10:(nx/2)+10] += cAnomaly\n",
    "\n",
    "sz = np.arange(25, nz-24, 1)\n",
    "sx = 25. * np.ones((len(sz),))\n",
    "rz = np.arange(25, nz-24, 1)\n",
    "rx = (nx - 25.) * np.ones((len(rz),))\n",
    "\n",
    "geom = {\n",
    "    'src':      np.vstack([sx, sz]).T,\n",
    "    'rec':      np.vstack([rx, rz]).T,\n",
    "}\n",
    "\n",
    "systemConfig = {\n",
    "    'dx':       1.,                         # m\n",
    "    'dz':       1.,                         # m\n",
    "    'c':        cTrue,                      # m/s\n",
    "    'rho':      1.,                         # kg/m^3\n",
    "    'nx':       nx,                         # count\n",
    "    'nz':       nz,                         # count\n",
    "    'freqs':    np.arange(50, 450, 50),     # Hz\n",
    "    'disc':     zephyr.backend.MiniZephyr,  # discretization\n",
    "    'geom':     geom,                       # dictionary\n",
    "}"
   ]
  },
  {
   "cell_type": "code",
   "execution_count": null,
   "metadata": {
    "collapsed": true
   },
   "outputs": [],
   "source": [
    "problem = zephyr.middleware.HelmBaseProblem(systemConfig)\n",
    "survey  = zephyr.middleware.HelmBaseSurvey(systemConfig)\n",
    "problem.pair(survey)"
   ]
  },
  {
   "cell_type": "code",
   "execution_count": null,
   "metadata": {
    "collapsed": false
   },
   "outputs": [],
   "source": [
    "dObs = survey.dpred()\n",
    "survey.dobs = dObs\n",
    "survey.std = 1.\n",
    "\n",
    "dmisfit = SimPEG.DataMisfit.l2_DataMisfit(survey)\n",
    "dmisfit.Wd = 1.\n",
    "\n",
    "opt = SimPEG.Optimization.SteepestDescent(maxIter = 5)\n",
    "reg = SimPEG.Regularization.Tikhonov(problem.mesh)\n",
    "\n",
    "invProb = SimPEG.InvProblem.BaseInvProblem(dmisfit, reg, opt)\n",
    "inv = SimPEG.Inversion.BaseInversion(invProb)"
   ]
  },
  {
   "cell_type": "code",
   "execution_count": null,
   "metadata": {
    "collapsed": false
   },
   "outputs": [],
   "source": [
    "mOpt = inv.run(cBackground)"
   ]
  }
 ],
 "metadata": {
  "kernelspec": {
   "display_name": "Python 2",
   "language": "python",
   "name": "python2"
  },
  "language_info": {
   "codemirror_mode": {
    "name": "ipython",
    "version": 2
   },
   "file_extension": ".py",
   "mimetype": "text/x-python",
   "name": "python",
   "nbconvert_exporter": "python",
   "pygments_lexer": "ipython2",
   "version": "2.7.6"
  }
 },
 "nbformat": 4,
 "nbformat_minor": 0
}
