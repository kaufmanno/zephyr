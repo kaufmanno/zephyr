{
 "cells": [
  {
   "cell_type": "markdown",
   "metadata": {},
   "source": [
    "# Time Modelling Tests\n",
    "\n",
    "Brendan Smithyman | February, 2016\n",
    "\n",
    "Test for solvers, plotting wavefields and outputting to `.utout`."
   ]
  },
  {
   "cell_type": "code",
   "execution_count": 1,
   "metadata": {
    "collapsed": false
   },
   "outputs": [],
   "source": [
    "import os\n",
    "import sys\n",
    "\n",
    "sys.path.append('../../')\n",
    "\n",
    "import numpy as np\n",
    "from pygeo.segyread import SEGYFile\n",
    "from pygeo.fullpy import readini\n",
    "# from pymatsolver import MumpsSolver\n",
    "from zephyr.backend import MiniZephyrHD, EurusHD, SparseKaiserSource\n",
    "from zephyr.middleware import Helm2DViscoProblem, Helm2DSurvey, FullwvDatastore\n",
    "from zephyr.middleware import dftreal, idftreal, dwavelet, TimeMachine"
   ]
  },
  {
   "cell_type": "code",
   "execution_count": 2,
   "metadata": {
    "collapsed": false
   },
   "outputs": [],
   "source": [
    "fds = FullwvDatastore('xhlayr')\n",
    "systemConfig = fds.systemConfig\n",
    "\n",
    "systemConfig.update({\n",
    "    'Disc':     MiniZephyrHD,\n",
    "#     'Solver':   MumpsSolver,\n",
    "})\n",
    "\n",
    "TM = TimeMachine(systemConfig)\n",
    "STF = TM.fSource(TM.keuper())\n",
    "systemConfig['sterms'] = STF.ravel()\n",
    "\n",
    "problem = Helm2DViscoProblem(systemConfig)\n",
    "survey  = Helm2DSurvey(systemConfig)\n",
    "problem.pair(survey)"
   ]
  },
  {
   "cell_type": "code",
   "execution_count": 3,
   "metadata": {
    "collapsed": false
   },
   "outputs": [
    {
     "name": "stdout",
     "output_type": "stream",
     "text": [
      "System Wrapper:\t<class 'zephyr.backend.distributors.ViscoMultiFreq'>\n",
      "Discretization:\t<class 'zephyr.backend.minizephyr.MiniZephyrHD'>\n",
      "RHS Generator: \t<class 'zephyr.backend.source.SparseKaiserSource'>\n"
     ]
    }
   ],
   "source": [
    "print('System Wrapper:\\t%s'%problem.SystemWrapper)\n",
    "print('Discretization:\\t%s'%problem.system.Disc)\n",
    "print('RHS Generator: \\t%s'%survey.rhsGenerator.__class__)"
   ]
  },
  {
   "cell_type": "code",
   "execution_count": 4,
   "metadata": {
    "collapsed": false
   },
   "outputs": [
    {
     "name": "stderr",
     "output_type": "stream",
     "text": [
      "/Users/brendan/anaconda/lib/python2.7/site-packages/numpy/lib/arraypad.py:1066: ComplexWarning: Casting complex values to real discards the imaginary part\n",
      "  arr = np.round(arr).astype(int)\n",
      "/Users/brendan/anaconda/lib/python2.7/site-packages/numpy/lib/arraypad.py:1066: ComplexWarning: Casting complex values to real discards the imaginary part\n",
      "  arr = np.round(arr).astype(int)\n",
      "/Users/brendan/anaconda/lib/python2.7/site-packages/numpy/lib/arraypad.py:1066: ComplexWarning: Casting complex values to real discards the imaginary part\n",
      "  arr = np.round(arr).astype(int)\n",
      "/Users/brendan/anaconda/lib/python2.7/site-packages/numpy/lib/arraypad.py:1066: ComplexWarning: Casting complex values to real discards the imaginary part\n",
      "  arr = np.round(arr).astype(int)\n",
      "/Users/brendan/anaconda/lib/python2.7/site-packages/numpy/lib/arraypad.py:1066: ComplexWarning: Casting complex values to real discards the imaginary part\n",
      "  arr = np.round(arr).astype(int)\n",
      "/Users/brendan/anaconda/lib/python2.7/site-packages/numpy/lib/arraypad.py:1066: ComplexWarning: Casting complex values to real discards the imaginary part\n",
      "  arr = np.round(arr).astype(int)\n",
      "/Users/brendan/anaconda/lib/python2.7/site-packages/numpy/lib/arraypad.py:1066: ComplexWarning: Casting complex values to real discards the imaginary part\n",
      "  arr = np.round(arr).astype(int)\n",
      "/Users/brendan/anaconda/lib/python2.7/site-packages/numpy/lib/arraypad.py:1066: ComplexWarning: Casting complex values to real discards the imaginary part\n",
      "  arr = np.round(arr).astype(int)\n"
     ]
    }
   ],
   "source": [
    "uF = problem.fields()[:]['u']"
   ]
  },
  {
   "cell_type": "code",
   "execution_count": 5,
   "metadata": {
    "collapsed": false
   },
   "outputs": [],
   "source": [
    "uFs = uF[:,0,:]\n",
    "res = TM.idft(uFs)"
   ]
  },
  {
   "cell_type": "code",
   "execution_count": 6,
   "metadata": {
    "collapsed": false
   },
   "outputs": [
    {
     "name": "stdout",
     "output_type": "stream",
     "text": [
      "Populating the interactive namespace from numpy and matplotlib\n"
     ]
    },
    {
     "data": {
      "text/plain": [
       "<matplotlib.image.AxesImage at 0x10b5b7a90>"
      ]
     },
     "execution_count": 6,
     "metadata": {},
     "output_type": "execute_result"
    },
    {
     "data": {
      "image/png": "[encoded data removed]",
      "text/plain": [
       "<matplotlib.figure.Figure at 0x10d554dd0>"
      ]
     },
     "metadata": {},
     "output_type": "display_data"
    }
   ],
   "source": [
    "%pylab inline\n",
    "imshow(res[:,25].reshape((200,100)))"
   ]
  },
  {
   "cell_type": "code",
   "execution_count": 7,
   "metadata": {
    "collapsed": false
   },
   "outputs": [
    {
     "name": "stdout",
     "output_type": "stream",
     "text": [
      "Running 50 frequencies and 86 sources\n",
      "CPU times: user 2.97 s, sys: 2.11 s, total: 5.09 s\n",
      "Wall time: 25.2 s\n"
     ]
    }
   ],
   "source": [
    "%%time\n",
    "\n",
    "print('Running %(nfreq)d frequencies and %(nsrc)s sources'%{'nfreq': survey.nfreq, 'nsrc': survey.nsrc})\n",
    "\n",
    "dPred = survey.dpred().reshape((survey.nrec, survey.nsrc, survey.nfreq))"
   ]
  },
  {
   "cell_type": "code",
   "execution_count": 8,
   "metadata": {
    "collapsed": false
   },
   "outputs": [],
   "source": [
    "fds.utoutWrite(dPred)"
   ]
  },
  {
   "cell_type": "code",
   "execution_count": null,
   "metadata": {
    "collapsed": true
   },
   "outputs": [],
   "source": []
  }
 ],
 "metadata": {
  "kernelspec": {
   "display_name": "Python 2",
   "language": "python",
   "name": "python2"
  },
  "language_info": {
   "codemirror_mode": {
    "name": "ipython",
    "version": 2
   },
   "file_extension": ".py",
   "mimetype": "text/x-python",
   "name": "python",
   "nbconvert_exporter": "python",
   "pygments_lexer": "ipython2",
   "version": "2.7.11"
  }
 },
 "nbformat": 4,
 "nbformat_minor": 0
}
