{
 "cells": [
  {
   "cell_type": "code",
   "execution_count": 1,
   "metadata": {
    "collapsed": false
   },
   "outputs": [],
   "source": [
    "import os\n",
    "import sys\n",
    "\n",
    "sys.path.append('../')\n",
    "sys.path.append('/usr/local/bin')\n",
    "\n",
    "import numpy as np\n",
    "from pygeo.segyread import SEGYFile\n",
    "from pygeo.fullpy import readini\n",
    "from pymatsolver import MumpsSolver\n",
    "from zephyr.backend import MiniZephyr, Eurus\n",
    "from zephyr.middleware import HelmBaseProblem, HelmBaseSurvey, FullwvDatastore\n",
    "\n",
    "os.chdir('noel')"
   ]
  },
  {
   "cell_type": "code",
   "execution_count": 2,
   "metadata": {
    "collapsed": false
   },
   "outputs": [],
   "source": [
    "fds = FullwvDatastore('noel')"
   ]
  },
  {
   "cell_type": "code",
   "execution_count": 3,
   "metadata": {
    "collapsed": false
   },
   "outputs": [
    {
     "data": {
      "text/plain": [
       "['noel.utobs100.000',\n",
       " 'noel.utobs1300.000',\n",
       " 'noel.utobs1500.000',\n",
       " 'noel.utobs500.000',\n",
       " 'noel.utobs950.000',\n",
       " 'noel.utobs750.000',\n",
       " 'noel.utobs1550.000',\n",
       " 'noel.utobs600.000',\n",
       " 'noel.utobs200.000',\n",
       " 'noel.utobs1200.000',\n",
       " 'noel.utobs650.000',\n",
       " 'noel.utobs850.000',\n",
       " 'noel.utobs400.000',\n",
       " 'noel.utobs1350.000',\n",
       " 'noel.utobs1250.000',\n",
       " 'noel.utobs800.000',\n",
       " 'noel.utobs1600.000',\n",
       " 'noel.utobs1450.000',\n",
       " 'noel.utobs300.000',\n",
       " 'noel.utobs50.000',\n",
       " 'noel.utobs1050.000',\n",
       " 'noel.utobs350.000',\n",
       " 'noel.utobs250.000',\n",
       " 'noel.utobs1000.000',\n",
       " 'noel.utobs450.000',\n",
       " 'noel.utobs900.000',\n",
       " 'noel.utobs550.000',\n",
       " 'noel.vp',\n",
       " 'noel.utobs1150.000',\n",
       " 'noel.utobs700.000',\n",
       " 'noel.utobs150.000',\n",
       " 'noel.utobs1400.000',\n",
       " 'noel.utobs1100.000']"
      ]
     },
     "execution_count": 3,
     "metadata": {},
     "output_type": "execute_result"
    }
   ],
   "source": [
    "fds.keys()"
   ]
  },
  {
   "cell_type": "code",
   "execution_count": 4,
   "metadata": {
    "collapsed": false
   },
   "outputs": [
    {
     "data": {
      "text/plain": [
       "['tau',\n",
       " 'freeSurf',\n",
       " 'dx',\n",
       " 'zorig',\n",
       " 'freqs',\n",
       " 'c',\n",
       " 'nx',\n",
       " 'nz',\n",
       " 'geom',\n",
       " 'dz',\n",
       " 'xorig',\n",
       " 'nky',\n",
       " 'ireg']"
      ]
     },
     "execution_count": 4,
     "metadata": {},
     "output_type": "execute_result"
    }
   ],
   "source": [
    "fds.systemConfig.keys()"
   ]
  },
  {
   "cell_type": "code",
   "execution_count": null,
   "metadata": {
    "collapsed": true
   },
   "outputs": [],
   "source": []
  }
 ],
 "metadata": {
  "kernelspec": {
   "display_name": "Python 2",
   "language": "python",
   "name": "python2"
  },
  "language_info": {
   "codemirror_mode": {
    "name": "ipython",
    "version": 2
   },
   "file_extension": ".py",
   "mimetype": "text/x-python",
   "name": "python",
   "nbconvert_exporter": "python",
   "pygments_lexer": "ipython2",
   "version": "2.7.6"
  }
 },
 "nbformat": 4,
 "nbformat_minor": 0
}
