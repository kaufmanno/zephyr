{
 "cells": [
  {
   "cell_type": "code",
   "execution_count": 1,
   "metadata": {
    "collapsed": false
   },
   "outputs": [
    {
     "name": "stdout",
     "output_type": "stream",
     "text": [
      "CPU times: user 184 ms, sys: 156 ms, total: 340 ms\n",
      "Wall time: 497 ms\n"
     ]
    }
   ],
   "source": [
    "%%time\n",
    "\n",
    "import sys\n",
    "\n",
    "sys.path.append('../')\n",
    "sys.path.append('/usr/local/bin')\n",
    "\n",
    "import numpy as np\n",
    "from pygeo.segyread import SEGYFile\n",
    "from pygeo.fullpy import readini\n",
    "from pymatsolver import MumpsSolver\n",
    "from zephyr.backend import MiniZephyr, Eurus\n",
    "from zephyr.middleware import HelmBaseProblem, HelmBaseSurvey, FullwvDatastore"
   ]
  },
  {
   "cell_type": "code",
   "execution_count": 2,
   "metadata": {
    "collapsed": false
   },
   "outputs": [
    {
     "name": "stdout",
     "output_type": "stream",
     "text": [
      "CPU times: user 20 ms, sys: 12 ms, total: 32 ms\n",
      "Wall time: 28.5 ms\n"
     ]
    }
   ],
   "source": [
    "%%time\n",
    "\n",
    "fds = FullwvDatastore('noel')\n",
    "systemConfig = fds.systemConfig\n",
    "\n",
    "systemConfig.update({\n",
    "    'disc':     MiniZephyr,\n",
    "    'Solver':   MumpsSolver,\n",
    "})\n",
    "\n",
    "problem = HelmBaseProblem(systemConfig)\n",
    "survey  = HelmBaseSurvey(systemConfig)\n",
    "problem.pair(survey)"
   ]
  },
  {
   "cell_type": "code",
   "execution_count": 3,
   "metadata": {
    "collapsed": false
   },
   "outputs": [
    {
     "name": "stdout",
     "output_type": "stream",
     "text": [
      "Running 20 frequencies and 265 sources\n",
      "CPU times: user 28.3 s, sys: 34.8 s, total: 1min 3s\n",
      "Wall time: 1min 43s\n"
     ]
    }
   ],
   "source": [
    "%%time\n",
    "\n",
    "print('Running %(nfreq)d frequencies and %(nsrc)s sources'%{'nfreq': survey.nfreq, 'nsrc': survey.nsrc})\n",
    "\n",
    "dPred = survey.dpred()"
   ]
  },
  {
   "cell_type": "code",
   "execution_count": null,
   "metadata": {
    "collapsed": true
   },
   "outputs": [],
   "source": []
  }
 ],
 "metadata": {
  "kernelspec": {
   "display_name": "Python 2",
   "language": "python",
   "name": "python2"
  },
  "language_info": {
   "codemirror_mode": {
    "name": "ipython",
    "version": 2
   },
   "file_extension": ".py",
   "mimetype": "text/x-python",
   "name": "python",
   "nbconvert_exporter": "python",
   "pygments_lexer": "ipython2",
   "version": "2.7.6"
  }
 },
 "nbformat": 4,
 "nbformat_minor": 0
}
