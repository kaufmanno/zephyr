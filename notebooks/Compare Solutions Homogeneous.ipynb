{
 "cells": [
  {
   "cell_type": "markdown",
   "metadata": {},
   "source": [
    "# Compare Solutions - Homogenous\n",
    "\n",
    "Brendan Smithyman | October 2015\n",
    "\n",
    "This notebook shows comparisons between the responses of the different solvers."
   ]
  },
  {
   "cell_type": "code",
   "execution_count": null,
   "metadata": {
    "collapsed": true
   },
   "outputs": [],
   "source": [
    "import sys\n",
    "sys.path.append('../')"
   ]
  },
  {
   "cell_type": "code",
   "execution_count": null,
   "metadata": {
    "collapsed": false
   },
   "outputs": [],
   "source": [
    "import numpy as np\n",
    "from zephyr.backend import MiniZephyr, SparseKaiserSource, AnalyticalHelmholtz"
   ]
  },
  {
   "cell_type": "code",
   "execution_count": null,
   "metadata": {
    "collapsed": true
   },
   "outputs": [],
   "source": [
    "import matplotlib.pyplot as plt\n",
    "import matplotlib.cm as cm\n",
    "import matplotlib\n",
    "\n",
    "%matplotlib inline\n",
    "\n",
    "from IPython.display import set_matplotlib_formats\n",
    "set_matplotlib_formats('png')\n",
    "matplotlib.rcParams['savefig.dpi'] = 150 # Change this to adjust figure size"
   ]
  },
  {
   "cell_type": "code",
   "execution_count": null,
   "metadata": {
    "collapsed": true
   },
   "outputs": [],
   "source": [
    "systemConfig = {\n",
    "    'dx':       1.,     # m\n",
    "    'dz':       1.,     # m\n",
    "    'c':        2500.,  # m/s\n",
    "    'rho':      1000.,  # kg/m^3\n",
    "    'nx':       100,    # count\n",
    "    'nz':       200,    # count\n",
    "    'freq':     2e2,    # Hz\n",
    "}\n",
    "\n",
    "nx = systemConfig['nx']\n",
    "nz = systemConfig['nz']\n",
    "dx = systemConfig['dx']\n",
    "dz = systemConfig['dz']"
   ]
  },
  {
   "cell_type": "code",
   "execution_count": null,
   "metadata": {
    "collapsed": false
   },
   "outputs": [],
   "source": [
    "MZ = MiniZephyr(systemConfig)\n",
    "AH = AnalyticalHelmholtz(systemConfig)\n",
    "SKS = SparseKaiserSource(systemConfig)\n",
    "\n",
    "xs, zs = 25, 25\n",
    "sloc = np.array([xs, zs]).reshape((1,2))\n",
    "\n",
    "q = SKS(sloc)\n",
    "uMZ = MZ*q\n",
    "uAH = AH(sloc)"
   ]
  },
  {
   "cell_type": "code",
   "execution_count": null,
   "metadata": {
    "collapsed": false
   },
   "outputs": [],
   "source": [
    "clip = 100\n",
    "\n",
    "plotopts = {\n",
    "    'vmin':     -np.pi,\n",
    "    'vmax':     np.pi,\n",
    "    'extent':   [0., dx * nx, dz * nz, 0.],\n",
    "    'cmap':     cm.bwr,                \n",
    "}\n",
    "\n",
    "fig = plt.figure()\n",
    "\n",
    "ax1 = fig.add_subplot(1,4,1)\n",
    "plt.imshow(np.angle(uAH.reshape((nz, nx))), **plotopts)\n",
    "plt.title('AH Phase')\n",
    "\n",
    "ax2 = fig.add_subplot(1,4,2)\n",
    "plt.imshow(np.angle(uMZ.reshape((nz, nx))), **plotopts)\n",
    "plt.title('MZ Phase')\n",
    "\n",
    "plotopts.update({\n",
    "    'vmin':     -clip,\n",
    "    'vmax':     clip,\n",
    "})\n",
    "\n",
    "ax3 = fig.add_subplot(1,4,3)\n",
    "plt.imshow(uAH.reshape((nz, nx)).real, **plotopts)\n",
    "plt.title('AH Real')\n",
    "\n",
    "ax4 = fig.add_subplot(1,4,4)\n",
    "plt.imshow(uMZ.reshape((nz, nx)).real, **plotopts)\n",
    "plt.title('MZ Real')\n",
    "\n",
    "fig.tight_layout()"
   ]
  },
  {
   "cell_type": "markdown",
   "metadata": {},
   "source": [
    "## Error plots for MiniZephyr vs. the AnalyticalHelmholtz response\n",
    "\n",
    "Response of the field (showing where the numerical case does not match the analytical case):\n",
    "\n",
    "- Source region\n",
    "- PML regions"
   ]
  },
  {
   "cell_type": "code",
   "execution_count": null,
   "metadata": {
    "collapsed": false
   },
   "outputs": [],
   "source": [
    "fig = plt.figure()\n",
    "\n",
    "ax = fig.add_subplot(1,1,1, aspect=0.1)\n",
    "\n",
    "plt.plot(uAH.real.reshape((nz, nx))[:,xs], label='AnalyticalHelmholtz')\n",
    "plt.plot(uMZ.real.reshape((nz, nx))[:,xs], label='MiniZephyr')\n",
    "plt.legend(loc=4)\n",
    "plt.title('Real part of response through xs=%d'%xs)"
   ]
  },
  {
   "cell_type": "markdown",
   "metadata": {},
   "source": [
    "### Relative error of the MiniZephyr solution (in %)"
   ]
  },
  {
   "cell_type": "code",
   "execution_count": null,
   "metadata": {
    "collapsed": false
   },
   "outputs": [],
   "source": [
    "uMZr = uMZ.reshape((nz, nx))\n",
    "uAHr = uAH.reshape((nz, nx))\n",
    "\n",
    "plotopts.update({\n",
    "    'cmap': cm.jet,\n",
    "    'vmin': 0.,\n",
    "    'vmax': 20.,\n",
    "})\n",
    "\n",
    "fig = plt.figure()\n",
    "\n",
    "ax1 = fig.add_subplot(1,2,1)\n",
    "plt.imshow(abs(uAHr - uMZr)/(abs(uAHr)+1e-15) * 100, **plotopts)\n",
    "cb = plt.colorbar()\n",
    "cb.set_label('Percent error')\n",
    "\n",
    "plotopts.update({'vmax': 5.})\n",
    "\n",
    "ax2 = fig.add_subplot(1,2,2)\n",
    "plt.imshow(abs(uAHr - uMZr)/(abs(uAHr)+1e-15) * 100, **plotopts)\n",
    "cb = plt.colorbar()\n",
    "cb.set_label('Percent error')\n",
    "\n",
    "fig.tight_layout()"
   ]
  },
  {
   "cell_type": "code",
   "execution_count": null,
   "metadata": {
    "collapsed": true
   },
   "outputs": [],
   "source": []
  }
 ],
 "metadata": {
  "anaconda-cloud": {},
  "kernelspec": {
   "display_name": "Python [default]",
   "language": "python",
   "name": "python2"
  },
  "language_info": {
   "codemirror_mode": {
    "name": "ipython",
    "version": 2
   },
   "file_extension": ".py",
   "mimetype": "text/x-python",
   "name": "python",
   "nbconvert_exporter": "python",
   "pygments_lexer": "ipython2",
   "version": "2.7.12"
  }
 },
 "nbformat": 4,
 "nbformat_minor": 0
}
