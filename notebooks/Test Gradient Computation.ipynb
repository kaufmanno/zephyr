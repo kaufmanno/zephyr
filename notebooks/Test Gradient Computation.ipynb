{
 "cells": [
  {
   "cell_type": "code",
   "execution_count": null,
   "metadata": {
    "collapsed": false
   },
   "outputs": [],
   "source": [
    "import sys\n",
    "sys.path.append('../')\n",
    "\n",
    "import numpy as np\n",
    "from zephyr.backend import MiniZephyrHD\n",
    "from zephyr.middleware import Helm2DViscoProblem, Helm2DSurvey, HelmFields\n",
    "from SimPEG.DataMisfit import l2_DataMisfit"
   ]
  },
  {
   "cell_type": "code",
   "execution_count": null,
   "metadata": {
    "collapsed": true
   },
   "outputs": [],
   "source": [
    "# Re-activate MultiProcessing distributor for Nov. 8 demo\n",
    "\n",
    "from zephyr.backend import BaseMPDist, ViscoMultiFreq\n",
    "\n",
    "class MPViscoMultiFreq(BaseMPDist, ViscoMultiFreq):\n",
    "    \"\"\"VMF using multiprocessing\"\"\"\n",
    "\n",
    "class MPProblem(Helm2DViscoProblem):\n",
    "    \"\"\"H2VP using multiprocessing\"\"\"\n",
    "    SystemWrapper = MPViscoMultiFreq\n",
    "\n",
    "Helm2DViscoProblem = MPProblem"
   ]
  },
  {
   "cell_type": "code",
   "execution_count": null,
   "metadata": {
    "collapsed": false
   },
   "outputs": [],
   "source": [
    "nx = 100\n",
    "nz = 200\n",
    "cBackground = 2500. * np.ones((nz,nx))\n",
    "cAnomaly = -500.\n",
    "\n",
    "cTrue = cBackground * np.ones((nz,nx))\n",
    "cTrue[(nz/2)-10:(nz/2)+10,(nx/2)-10:(nx/2)+10] += cAnomaly\n",
    "\n",
    "sz = np.arange(25, nz-24, 1)\n",
    "sx = 25. * np.ones((len(sz),))\n",
    "rz = np.arange(25, nz-24, 1)\n",
    "rx = (nx - 25.) * np.ones((len(rz),))\n",
    "\n",
    "geom = {\n",
    "    'src':      np.vstack([sx, sz]).T,\n",
    "    'rec':      np.vstack([rx, rz]).T,\n",
    "}\n",
    "\n",
    "systemConfig = {\n",
    "    'dx':       1.,                     # m\n",
    "    'dz':       1.,                     # m\n",
    "    'c':        cTrue,                  # m/s\n",
    "    'rho':      1.,                     # kg/m^3\n",
    "    'nx':       nx,                     # count\n",
    "    'nz':       nz,                     # count\n",
    "    'freqs':    np.arange(50, 450, 50), # Hz\n",
    "    'Disc':     MiniZephyrHD,           # discretization\n",
    "    'geom':     geom,                   # dictionary\n",
    "}"
   ]
  },
  {
   "cell_type": "code",
   "execution_count": null,
   "metadata": {
    "collapsed": false
   },
   "outputs": [],
   "source": [
    "problem = MPProblem(systemConfig)\n",
    "survey  = Helm2DSurvey(systemConfig)\n",
    "problem.pair(survey)"
   ]
  },
  {
   "cell_type": "code",
   "execution_count": null,
   "metadata": {
    "collapsed": false
   },
   "outputs": [],
   "source": [
    "dObs = survey.dpred()\n",
    "survey.dobs = dObs\n",
    "survey.std = 1.\n",
    "misfit = l2_DataMisfit(survey)\n",
    "misfit.Wd = 1."
   ]
  },
  {
   "cell_type": "code",
   "execution_count": null,
   "metadata": {
    "collapsed": false
   },
   "outputs": [],
   "source": [
    "resid = survey.residual(cBackground)\n",
    "g = misfit.evalDeriv(cBackground)\n",
    "del problem.factors"
   ]
  },
  {
   "cell_type": "code",
   "execution_count": null,
   "metadata": {
    "collapsed": false
   },
   "outputs": [],
   "source": [
    "%pylab inline"
   ]
  },
  {
   "cell_type": "code",
   "execution_count": null,
   "metadata": {
    "collapsed": false
   },
   "outputs": [],
   "source": [
    "dObsr = dObs.reshape((survey.nrec, survey.nsrc, survey.nfreq))\n",
    "residr = resid.reshape(dObsr.shape)"
   ]
  },
  {
   "cell_type": "code",
   "execution_count": null,
   "metadata": {
    "collapsed": false
   },
   "outputs": [],
   "source": [
    "fig = figure()\n",
    "\n",
    "plotOpts = {\n",
    "    'cmap': cm.bwr,\n",
    "}\n",
    "\n",
    "for ifreq in xrange(8):\n",
    "    freq = systemConfig['freqs'][ifreq]\n",
    "    subplot(2, 4, ifreq+1)\n",
    "    imshow(dObsr[:,:,ifreq].real, **plotOpts)\n",
    "    title('%d Hz'%(freq,))\n",
    "\n",
    "fig.tight_layout()"
   ]
  },
  {
   "cell_type": "code",
   "execution_count": null,
   "metadata": {
    "collapsed": false
   },
   "outputs": [],
   "source": [
    "fig = figure()\n",
    "\n",
    "plotOpts = {\n",
    "    'cmap': cm.bwr,\n",
    "}\n",
    "\n",
    "for ifreq in xrange(8):\n",
    "    freq = systemConfig['freqs'][ifreq]\n",
    "    subplot(2, 4, ifreq+1)\n",
    "    imshow(residr[:,:,ifreq].real, **plotOpts)\n",
    "    title('%d Hz'%(freq,))\n",
    "\n",
    "fig.tight_layout()"
   ]
  },
  {
   "cell_type": "code",
   "execution_count": null,
   "metadata": {
    "collapsed": false
   },
   "outputs": [],
   "source": [
    "fig = figure()\n",
    "\n",
    "plotOpts = {\n",
    "    'cmap': cm.jet,\n",
    "}\n",
    "\n",
    "subplot(1,2,1)\n",
    "imshow(cTrue, **plotOpts)\n",
    "title('True model')\n",
    "\n",
    "subplot(1,2,2)\n",
    "imshow(g.reshape((200,100)).real, **plotOpts)\n",
    "title('Gradient')"
   ]
  },
  {
   "cell_type": "code",
   "execution_count": null,
   "metadata": {
    "collapsed": true
   },
   "outputs": [],
   "source": []
  }
 ],
 "metadata": {
  "anaconda-cloud": {},
  "kernelspec": {
   "display_name": "Python [default]",
   "language": "python",
   "name": "python2"
  },
  "language_info": {
   "codemirror_mode": {
    "name": "ipython",
    "version": 2
   },
   "file_extension": ".py",
   "mimetype": "text/x-python",
   "name": "python",
   "nbconvert_exporter": "python",
   "pygments_lexer": "ipython2",
   "version": "2.7.12"
  }
 },
 "nbformat": 4,
 "nbformat_minor": 0
}
