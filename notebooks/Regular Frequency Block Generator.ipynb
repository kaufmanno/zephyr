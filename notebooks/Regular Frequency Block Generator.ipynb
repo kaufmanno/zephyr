{
 "cells": [
  {
   "cell_type": "code",
   "execution_count": 1,
   "metadata": {
    "collapsed": false
   },
   "outputs": [],
   "source": [
    "import numpy as np\n",
    "\n",
    "entriesPerLine = 5\n",
    "entryFormat = '%1.6e '\n",
    "\n",
    "def generateBlock(freq0, freqN, nfreq):\n",
    "    freqs = np.linspace(freq0, freqN, nfreq)\n",
    "    lines = []\n",
    "\n",
    "    nlines = (nfreq / entriesPerLine)\n",
    "    for line in freqs[:nlines*entriesPerLine].reshape((nlines,entriesPerLine)):\n",
    "        lines.append((entriesPerLine*entryFormat)%tuple(list(line)))\n",
    "\n",
    "    remainder = np.mod(nfreq, entriesPerLine)\n",
    "    if remainder:\n",
    "        lines.append((remainder*entryFormat)%tuple(list(freqs[-remainder:])))\n",
    "    \n",
    "    return '\\n'.join(lines)"
   ]
  },
  {
   "cell_type": "code",
   "execution_count": 2,
   "metadata": {
    "collapsed": false
   },
   "outputs": [
    {
     "name": "stdout",
     "output_type": "stream",
     "text": [
      "5.000000e+01 1.000000e+02 1.500000e+02 2.000000e+02 2.500000e+02 \n",
      "3.000000e+02 3.500000e+02 4.000000e+02 4.500000e+02 5.000000e+02 \n",
      "5.500000e+02 6.000000e+02 6.500000e+02 7.000000e+02 7.500000e+02 \n",
      "8.000000e+02 8.500000e+02 9.000000e+02 9.500000e+02 1.000000e+03 \n"
     ]
    }
   ],
   "source": [
    "block = generateBlock(50, 1000, 20)\n",
    "print(block)"
   ]
  },
  {
   "cell_type": "code",
   "execution_count": null,
   "metadata": {
    "collapsed": true
   },
   "outputs": [],
   "source": []
  }
 ],
 "metadata": {
  "kernelspec": {
   "display_name": "Python 2",
   "language": "python",
   "name": "python2"
  },
  "language_info": {
   "codemirror_mode": {
    "name": "ipython",
    "version": 2
   },
   "file_extension": ".py",
   "mimetype": "text/x-python",
   "name": "python",
   "nbconvert_exporter": "python",
   "pygments_lexer": "ipython2",
   "version": "2.7.6"
  }
 },
 "nbformat": 4,
 "nbformat_minor": 0
}
