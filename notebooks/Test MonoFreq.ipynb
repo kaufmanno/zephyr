{
 "cells": [
  {
   "cell_type": "code",
   "execution_count": null,
   "metadata": {
    "collapsed": false
   },
   "outputs": [],
   "source": [
    "import numpy as np\n",
    "from zephyr.backend import MiniZephyr, SparseKaiserSource"
   ]
  },
  {
   "cell_type": "code",
   "execution_count": null,
   "metadata": {
    "collapsed": false
   },
   "outputs": [],
   "source": [
    "systemConfig = {\n",
    "    'dx':       1.,                     # m\n",
    "    'dz':       1.,                     # m\n",
    "    'c':        2500.,                  # m/s\n",
    "    'rho':      1.,                     # kg/m^3\n",
    "    'nx':       100,                    # count\n",
    "    'nz':       200,                    # count\n",
    "    'freq':     100.,                   # Hz\n",
    "}"
   ]
  },
  {
   "cell_type": "code",
   "execution_count": null,
   "metadata": {
    "collapsed": false
   },
   "outputs": [],
   "source": [
    "mz = MiniZephyr(systemConfig)\n",
    "mz"
   ]
  },
  {
   "cell_type": "code",
   "execution_count": null,
   "metadata": {
    "collapsed": true
   },
   "outputs": [],
   "source": [
    "sks = SparseKaiserSource(systemConfig)"
   ]
  },
  {
   "cell_type": "code",
   "execution_count": null,
   "metadata": {
    "collapsed": false
   },
   "outputs": [],
   "source": [
    "q = sks(np.array([[25, 25],[50, 40]]))"
   ]
  },
  {
   "cell_type": "code",
   "execution_count": null,
   "metadata": {
    "collapsed": false
   },
   "outputs": [],
   "source": [
    "q"
   ]
  },
  {
   "cell_type": "code",
   "execution_count": null,
   "metadata": {
    "collapsed": false
   },
   "outputs": [],
   "source": [
    "%time\n",
    "us = mz*q"
   ]
  },
  {
   "cell_type": "code",
   "execution_count": null,
   "metadata": {
    "collapsed": false
   },
   "outputs": [],
   "source": [
    "%pylab inline"
   ]
  },
  {
   "cell_type": "code",
   "execution_count": null,
   "metadata": {
    "collapsed": false
   },
   "outputs": [],
   "source": [
    "clip = 0.1\n",
    "\n",
    "plotOpts = {\n",
    "    'vmin': -clip,\n",
    "    'vmax': clip,\n",
    "    'cmap': cm.bwr\n",
    "}\n",
    "\n",
    "imshow(us[:,0].reshape((200,100)).real, **plotOpts)\n"
   ]
  },
  {
   "cell_type": "code",
   "execution_count": null,
   "metadata": {
    "collapsed": false
   },
   "outputs": [],
   "source": [
    "systemConfig['c'] = 2500. * np.ones((200, 100))\n",
    "systemConfig['c'][90:110,40:60] += 1000.\n",
    "mz = MiniZephyr(systemConfig)"
   ]
  },
  {
   "cell_type": "code",
   "execution_count": null,
   "metadata": {
    "collapsed": false
   },
   "outputs": [],
   "source": [
    "imshow(systemConfig['c'])"
   ]
  },
  {
   "cell_type": "code",
   "execution_count": null,
   "metadata": {
    "collapsed": false
   },
   "outputs": [],
   "source": [
    "%time\n",
    "us = mz*q"
   ]
  },
  {
   "cell_type": "code",
   "execution_count": null,
   "metadata": {
    "collapsed": false
   },
   "outputs": [],
   "source": [
    "clip = 0.1\n",
    "\n",
    "plotOpts = {\n",
    "    'vmin': -clip,\n",
    "    'vmax': clip,\n",
    "    'cmap': cm.bwr\n",
    "}\n",
    "\n",
    "imshow(us[:,0].reshape((200,100)).real, **plotOpts)"
   ]
  },
  {
   "cell_type": "code",
   "execution_count": null,
   "metadata": {
    "collapsed": true
   },
   "outputs": [],
   "source": []
  }
 ],
 "metadata": {
  "anaconda-cloud": {},
  "kernelspec": {
   "display_name": "Python [default]",
   "language": "python",
   "name": "python2"
  },
  "language_info": {
   "codemirror_mode": {
    "name": "ipython",
    "version": 2
   },
   "file_extension": ".py",
   "mimetype": "text/x-python",
   "name": "python",
   "nbconvert_exporter": "python",
   "pygments_lexer": "ipython2",
   "version": "2.7.12"
  }
 },
 "nbformat": 4,
 "nbformat_minor": 0
}
