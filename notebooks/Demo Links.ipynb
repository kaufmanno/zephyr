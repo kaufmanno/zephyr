{
 "cells": [
  {
   "cell_type": "markdown",
   "metadata": {},
   "source": [
    "# SimPEG Demo\n",
    "\n",
    "Brendan Smithyman | Nov. 8, 2016"
   ]
  },
  {
   "cell_type": "markdown",
   "metadata": {},
   "source": [
    "## Background links\n",
    "\n",
    "### Projects\n",
    "- **SimPEG**: [Site](http://simpeg.xyz/) | [GitHub](https://github.com/simpeg/simpeg/) | [Docs](http://docs.simpeg.xyz/)\n",
    "- **Zephyr**: [Site](https://zephyr.space/) | [GitHub](https://github.com/uwoseis/zephyr/) | [Background](https://zephyr.space/background/)\n",
    "\n",
    "### Parallel\n",
    "- [**multiprocessing**](https://docs.python.org/2/library/multiprocessing.html)\n",
    "- [**dask**](http://dask.pydata.org/en/latest/)\n",
    "\n",
    "### Backend\n",
    "- [**galoshes**](https://github.com/bsmithyman/galoshes)\n",
    "- [**problemo**](https://github.com/bsmithyman/problemo)\n",
    "- [**pyMKL**](https://github.com/dwfmarchant/pyMKL)"
   ]
  },
  {
   "cell_type": "markdown",
   "metadata": {},
   "source": [
    "## Source links\n",
    "\n",
    "- [source.py](../zephyr/backend/source.py)\n",
    "- [distributors.py](../zephyr/backend/distributors.py)\n",
    "- [minizephyr.py](../zephyr/backend/minizephyr.py)\n",
    "- [eurus.py](../zephyr/backend/eurus.py)"
   ]
  },
  {
   "cell_type": "markdown",
   "metadata": {},
   "source": [
    "## Notebook links\n",
    "\n",
    "- [MonoFreq](./Test%20MonoFreq.ipynb)\n",
    "- [MultiFreq](./Test%20MultiFreq.ipynb)\n",
    "- [Gradient Computation](./Test%20Gradient%20Computation.ipynb)\n",
    "- [Compare Solutions Homogenous - 2D](./notebooks/Compare%20Solutions%20Homogeneous.ipynb)\n",
    "- [Compare Solutions Homogenous - 2D](./notebooks/Compare%20Solutions%20Homogeneous%20-%203D.ipynb)\n",
    "- [Wavefields - EW](https://github.com/simpeg/presentations/blob/seismic/SciPy2016/Geological_model/Seismic%20Wavefields%20EW.ipynb)\n",
    "- [Wavefields - NS](https://github.com/simpeg/presentations/blob/seismic/SciPy2016/Geological_model/Seismic%20Wavefields%20NS.ipynb)"
   ]
  },
  {
   "cell_type": "code",
   "execution_count": null,
   "metadata": {
    "collapsed": true
   },
   "outputs": [],
   "source": [
    "# Re-activate MultiProcessing distributor for Nov. 8 demo\n",
    "# For examples above (Wavefields - EW, Wavefields - NS) paste\n",
    "# this code into a cell between Cell 1 and Cell 2 (re-enables\n",
    "# the multiprocessing parallel distributor to avoid some minor\n",
    "# issues with the current dask.distributed solution).\n",
    "\n",
    "from zephyr.backend import BaseMPDist, ViscoMultiFreq\n",
    "\n",
    "class MPViscoMultiFreq(BaseMPDist, ViscoMultiFreq):\n",
    "    \"\"\"VMF using multiprocessing\"\"\"\n",
    "\n",
    "class MPProblem(Helm2DViscoProblem):\n",
    "    \"\"\"H2VP using multiprocessing\"\"\"\n",
    "    SystemWrapper = MPViscoMultiFreq\n",
    "\n",
    "Helm2DViscoProblem = MPProblem"
   ]
  }
 ],
 "metadata": {
  "anaconda-cloud": {},
  "kernelspec": {
   "display_name": "Python [default]",
   "language": "python",
   "name": "python2"
  },
  "language_info": {
   "codemirror_mode": {
    "name": "ipython",
    "version": 2
   },
   "file_extension": ".py",
   "mimetype": "text/x-python",
   "name": "python",
   "nbconvert_exporter": "python",
   "pygments_lexer": "ipython2",
   "version": "2.7.12"
  }
 },
 "nbformat": 4,
 "nbformat_minor": 1
}
