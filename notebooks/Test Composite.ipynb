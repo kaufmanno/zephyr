{
 "cells": [
  {
   "cell_type": "code",
   "execution_count": null,
   "metadata": {
    "collapsed": false
   },
   "outputs": [],
   "source": [
    "import numpy as np\n",
    "from anemoi import SimpleSource, MiniZephyr25D, AnalyticalHelmholtz"
   ]
  },
  {
   "cell_type": "code",
   "execution_count": null,
   "metadata": {
    "collapsed": true
   },
   "outputs": [],
   "source": [
    "systemConfig = {\n",
    "    'dx':       1.,     # m\n",
    "    'dz':       1.,     # m\n",
    "    'c':        2500.,  # m/s\n",
    "    'rho':      1.,     # kg/m^3\n",
    "    'nx':       100,    # count\n",
    "    'nz':       200,    # count\n",
    "    'freq':     2e2,  # Hz\n",
    "    'nky':      80,\n",
    "}"
   ]
  },
  {
   "cell_type": "code",
   "execution_count": null,
   "metadata": {
    "collapsed": false
   },
   "outputs": [],
   "source": [
    "sp = MiniZephyr25D(systemConfig)\n",
    "ss = SimpleSource(systemConfig)"
   ]
  },
  {
   "cell_type": "code",
   "execution_count": null,
   "metadata": {
    "collapsed": false
   },
   "outputs": [],
   "source": [
    "q = ss(25, 25)\n",
    "u = sp*q"
   ]
  },
  {
   "cell_type": "code",
   "execution_count": null,
   "metadata": {
    "collapsed": false
   },
   "outputs": [],
   "source": [
    "%pylab inline"
   ]
  },
  {
   "cell_type": "code",
   "execution_count": null,
   "metadata": {
    "collapsed": false
   },
   "outputs": [],
   "source": [
    "clip = 1e-1\n",
    "imshow(u.reshape((200,100)).real, cmap=cm.bwr, vmin=-clip, vmax=clip)"
   ]
  }
 ],
 "metadata": {
  "kernelspec": {
   "display_name": "Python 2",
   "language": "python",
   "name": "python2"
  },
  "language_info": {
   "codemirror_mode": {
    "name": "ipython",
    "version": 2
   },
   "file_extension": ".py",
   "mimetype": "text/x-python",
   "name": "python",
   "nbconvert_exporter": "python",
   "pygments_lexer": "ipython2",
   "version": "2.7.6"
  }
 },
 "nbformat": 4,
 "nbformat_minor": 0
}
